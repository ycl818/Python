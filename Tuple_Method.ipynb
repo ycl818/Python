{
  "nbformat": 4,
  "nbformat_minor": 0,
  "metadata": {
    "colab": {
      "name": "Tuple_Method.ipynb",
      "provenance": [],
      "collapsed_sections": [],
      "authorship_tag": "ABX9TyN1XJ1nT2lf+tQ9fT56HUBX",
      "include_colab_link": true
    },
    "kernelspec": {
      "name": "python3",
      "display_name": "Python 3"
    }
  },
  "cells": [
    {
      "cell_type": "markdown",
      "metadata": {
        "id": "view-in-github",
        "colab_type": "text"
      },
      "source": [
        "<a href=\"https://colab.research.google.com/github/ycl818/Python/blob/main/Tuple_Method.ipynb\" target=\"_parent\"><img src=\"https://colab.research.google.com/assets/colab-badge.svg\" alt=\"Open In Colab\"/></a>"
      ]
    },
    {
      "cell_type": "markdown",
      "metadata": {
        "id": "iX88sVxu8syY"
      },
      "source": [
        "#Tuple\n"
      ]
    },
    {
      "cell_type": "code",
      "metadata": {
        "colab": {
          "base_uri": "https://localhost:8080/"
        },
        "id": "BSYBoZrD8pZC",
        "outputId": "fed16480-e21a-4c85-c6d3-2cb51e5fd260"
      },
      "source": [
        "tuple1 = tuple()\n",
        "tuple1"
      ],
      "execution_count": 2,
      "outputs": [
        {
          "output_type": "execute_result",
          "data": {
            "text/plain": [
              "()"
            ]
          },
          "metadata": {
            "tags": []
          },
          "execution_count": 2
        }
      ]
    },
    {
      "cell_type": "code",
      "metadata": {
        "colab": {
          "base_uri": "https://localhost:8080/"
        },
        "id": "E7yzf30983Jb",
        "outputId": "dd2d4a4c-ce9d-4e32-b010-6b75f4e40139"
      },
      "source": [
        "tuple1=(1,3,5,7,9)\n",
        "tuple1"
      ],
      "execution_count": 4,
      "outputs": [
        {
          "output_type": "execute_result",
          "data": {
            "text/plain": [
              "(1, 3, 5, 7, 9)"
            ]
          },
          "metadata": {
            "tags": []
          },
          "execution_count": 4
        }
      ]
    },
    {
      "cell_type": "code",
      "metadata": {
        "colab": {
          "base_uri": "https://localhost:8080/"
        },
        "id": "KuKGQG4m8-Sy",
        "outputId": "8ce6ab09-9eeb-47aa-f847-601fd67e726c"
      },
      "source": [
        "tuple2 =2,4,6\n",
        "tuple2"
      ],
      "execution_count": 6,
      "outputs": [
        {
          "output_type": "execute_result",
          "data": {
            "text/plain": [
              "(2, 4, 6)"
            ]
          },
          "metadata": {
            "tags": []
          },
          "execution_count": 6
        }
      ]
    },
    {
      "cell_type": "code",
      "metadata": {
        "colab": {
          "base_uri": "https://localhost:8080/"
        },
        "id": "4pzH-JNv9J-c",
        "outputId": "acb0003f-6788-454f-8077-b9ec1500866d"
      },
      "source": [
        "tuple2.count( 2 )"
      ],
      "execution_count": 7,
      "outputs": [
        {
          "output_type": "execute_result",
          "data": {
            "text/plain": [
              "1"
            ]
          },
          "metadata": {
            "tags": []
          },
          "execution_count": 7
        }
      ]
    },
    {
      "cell_type": "code",
      "metadata": {
        "colab": {
          "base_uri": "https://localhost:8080/"
        },
        "id": "jWghnB7V9OAF",
        "outputId": "52d7ba32-65ca-4de2-f8c0-17c1a0c78ff1"
      },
      "source": [
        "tuple2.index( 6 )"
      ],
      "execution_count": 8,
      "outputs": [
        {
          "output_type": "execute_result",
          "data": {
            "text/plain": [
              "2"
            ]
          },
          "metadata": {
            "tags": []
          },
          "execution_count": 8
        }
      ]
    },
    {
      "cell_type": "markdown",
      "metadata": {
        "id": "2cmw6av79W7D"
      },
      "source": [
        "##can recovered the value"
      ]
    },
    {
      "cell_type": "code",
      "metadata": {
        "colab": {
          "base_uri": "https://localhost:8080/"
        },
        "id": "Jqp1O1cH9jR8",
        "outputId": "4aeb2d02-a75d-4415-d7b8-cbc99ec9e125"
      },
      "source": [
        "tuple1 = 1,2,3\n",
        "tuple1"
      ],
      "execution_count": 27,
      "outputs": [
        {
          "output_type": "execute_result",
          "data": {
            "text/plain": [
              "(1, 2, 3)"
            ]
          },
          "metadata": {
            "tags": []
          },
          "execution_count": 27
        }
      ]
    },
    {
      "cell_type": "code",
      "metadata": {
        "colab": {
          "base_uri": "https://localhost:8080/"
        },
        "id": "ZFbiHp3r9oJM",
        "outputId": "b3b87f04-e897-4658-93cd-be2a86f5e094"
      },
      "source": [
        "tuple2 = 4,5\n",
        "tuple2"
      ],
      "execution_count": 28,
      "outputs": [
        {
          "output_type": "execute_result",
          "data": {
            "text/plain": [
              "(4, 5)"
            ]
          },
          "metadata": {
            "tags": []
          },
          "execution_count": 28
        }
      ]
    },
    {
      "cell_type": "code",
      "metadata": {
        "colab": {
          "base_uri": "https://localhost:8080/"
        },
        "id": "0_sz0iyX9ryr",
        "outputId": "882b334e-0683-4006-d09a-57da8c8a6052"
      },
      "source": [
        "tuple1= tuple1 + tuple2\n",
        "print(tuple1)"
      ],
      "execution_count": 29,
      "outputs": [
        {
          "output_type": "stream",
          "text": [
            "(1, 2, 3, 4, 5)\n"
          ],
          "name": "stdout"
        }
      ]
    },
    {
      "cell_type": "code",
      "metadata": {
        "colab": {
          "base_uri": "https://localhost:8080/"
        },
        "id": "0TTwXnI_95vQ",
        "outputId": "9ebeb771-628f-422d-d5d7-dde990212760"
      },
      "source": [
        "tuple3 = (6)\n",
        "print(tuple3)"
      ],
      "execution_count": 18,
      "outputs": [
        {
          "output_type": "stream",
          "text": [
            "6\n"
          ],
          "name": "stdout"
        }
      ]
    },
    {
      "cell_type": "code",
      "metadata": {
        "colab": {
          "base_uri": "https://localhost:8080/"
        },
        "id": "4fdJ-6uP-Bi7",
        "outputId": "cf41744d-996d-4aa4-ca51-00cf2a9efff2"
      },
      "source": [
        "type(tuple3)"
      ],
      "execution_count": 19,
      "outputs": [
        {
          "output_type": "execute_result",
          "data": {
            "text/plain": [
              "int"
            ]
          },
          "metadata": {
            "tags": []
          },
          "execution_count": 19
        }
      ]
    },
    {
      "cell_type": "code",
      "metadata": {
        "colab": {
          "base_uri": "https://localhost:8080/"
        },
        "id": "7MgyFKX2-bhL",
        "outputId": "9dc6925c-84ac-4d9e-936d-237dc80879b6"
      },
      "source": [
        "tuple3 = (6,)\n",
        "type(tuple3)"
      ],
      "execution_count": 22,
      "outputs": [
        {
          "output_type": "execute_result",
          "data": {
            "text/plain": [
              "tuple"
            ]
          },
          "metadata": {
            "tags": []
          },
          "execution_count": 22
        }
      ]
    },
    {
      "cell_type": "code",
      "metadata": {
        "colab": {
          "base_uri": "https://localhost:8080/"
        },
        "id": "VBziDEd--mgA",
        "outputId": "6e8172ba-665d-4f2b-f24f-09d845c1d0d6"
      },
      "source": [
        "tuple1= tuple1+tuple3\n",
        "print(tuple1)"
      ],
      "execution_count": 30,
      "outputs": [
        {
          "output_type": "stream",
          "text": [
            "(1, 2, 3, 4, 5, 6)\n"
          ],
          "name": "stdout"
        }
      ]
    },
    {
      "cell_type": "code",
      "metadata": {
        "colab": {
          "base_uri": "https://localhost:8080/"
        },
        "id": "WpL-TAos-wbD",
        "outputId": "a2f24c9d-d882-4e30-a66f-c7462ec6fe29"
      },
      "source": [
        "tuple1 = tuple1 + (7,)\n",
        "print(tuple1)"
      ],
      "execution_count": 31,
      "outputs": [
        {
          "output_type": "stream",
          "text": [
            "(1, 2, 3, 4, 5, 6, 7)\n"
          ],
          "name": "stdout"
        }
      ]
    },
    {
      "cell_type": "code",
      "metadata": {
        "colab": {
          "base_uri": "https://localhost:8080/",
          "height": 163
        },
        "id": "-qhR4QA4_GlI",
        "outputId": "fd65a3d7-7d91-49df-e1f6-026fc5e1ad02"
      },
      "source": [
        "tuple1 = tuple1 +8"
      ],
      "execution_count": 32,
      "outputs": [
        {
          "output_type": "error",
          "ename": "TypeError",
          "evalue": "ignored",
          "traceback": [
            "\u001b[0;31m---------------------------------------------------------------------------\u001b[0m",
            "\u001b[0;31mTypeError\u001b[0m                                 Traceback (most recent call last)",
            "\u001b[0;32m<ipython-input-32-32d49865c314>\u001b[0m in \u001b[0;36m<module>\u001b[0;34m()\u001b[0m\n\u001b[0;32m----> 1\u001b[0;31m \u001b[0mtuple1\u001b[0m \u001b[0;34m=\u001b[0m \u001b[0mtuple1\u001b[0m \u001b[0;34m+\u001b[0m\u001b[0;36m8\u001b[0m\u001b[0;34m\u001b[0m\u001b[0;34m\u001b[0m\u001b[0m\n\u001b[0m",
            "\u001b[0;31mTypeError\u001b[0m: can only concatenate tuple (not \"int\") to tuple"
          ]
        }
      ]
    },
    {
      "cell_type": "code",
      "metadata": {
        "colab": {
          "base_uri": "https://localhost:8080/"
        },
        "id": "KeT5ac0_PHDG",
        "outputId": "5e2c266c-9acc-490d-f0fa-b7598685e5fa"
      },
      "source": [
        "list1 = list()\n",
        "count=1\n",
        "while True:\n",
        "  num =int(input(\"please input no.\" + str(count) + \" number\"))\n",
        "  if num== -9999:\n",
        "    break\n",
        "  list1.append( num )\n",
        "  count+=1\n",
        "tuple1= tuple(list1)\n",
        "print(tuple1)\n",
        "print(\"Length:\",len(tuple1))\n",
        "print(\"Max value:\",max(tuple1))\n",
        "print(\"Min value:\",min(tuple1))\n",
        "print(\"Sum: \",sum(tuple1))"
      ],
      "execution_count": 36,
      "outputs": [
        {
          "output_type": "stream",
          "text": [
            "please input no.1 number10\n",
            "please input no.2 number15\n",
            "please input no.3 number55\n",
            "please input no.4 number-96\n",
            "please input no.5 number77\n",
            "please input no.6 number23\n",
            "please input no.7 number26\n",
            "please input no.8 number-9999\n",
            "(10, 15, 55, -96, 77, 23, 26)\n",
            "Length: 7\n",
            "Max value: 77\n",
            "Min value: -96\n",
            "Sum:  110\n"
          ],
          "name": "stdout"
        }
      ]
    }
  ]
}
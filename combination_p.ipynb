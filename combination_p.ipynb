{
  "nbformat": 4,
  "nbformat_minor": 0,
  "metadata": {
    "colab": {
      "name": "combination_p.ipynb",
      "provenance": [],
      "collapsed_sections": [],
      "authorship_tag": "ABX9TyOjsQ1wHqdAEQG/bgpOelcq",
      "include_colab_link": true
    },
    "kernelspec": {
      "name": "python3",
      "display_name": "Python 3"
    }
  },
  "cells": [
    {
      "cell_type": "markdown",
      "metadata": {
        "id": "view-in-github",
        "colab_type": "text"
      },
      "source": [
        "<a href=\"https://colab.research.google.com/github/ycl818/Python/blob/main/combination_p.ipynb\" target=\"_parent\"><img src=\"https://colab.research.google.com/assets/colab-badge.svg\" alt=\"Open In Colab\"/></a>"
      ]
    },
    {
      "cell_type": "code",
      "metadata": {
        "colab": {
          "base_uri": "https://localhost:8080/"
        },
        "id": "_4A1Z1XldS60",
        "outputId": "23bbc3ec-0c97-4fb6-f610-29c0dc3ba28f"
      },
      "source": [
        "list1 =input(\"請輸入第1個數組: \").split(\" \")\n",
        "tuple1 = tuple(map(int,list1))\n",
        "print( tuple1 )"
      ],
      "execution_count": 1,
      "outputs": [
        {
          "output_type": "stream",
          "text": [
            "請輸入第1個數組: 23 54 87 35 23\n",
            "(23, 54, 87, 35, 23)\n"
          ],
          "name": "stdout"
        }
      ]
    },
    {
      "cell_type": "code",
      "metadata": {
        "colab": {
          "base_uri": "https://localhost:8080/"
        },
        "id": "xLoqBqp2edSt",
        "outputId": "8c78ace1-1484-4588-ea2d-d7fc40713515"
      },
      "source": [
        "list1 =input(\"請輸入第1個數組: \").split(\" \")\n",
        "tuple1 = tuple(map(int,list1))\n",
        "list2 =input(\"請輸入第2個數組: \").split(\" \")\n",
        "tuple2 = tuple(map(int,list2))\n",
        "\n",
        "print(\"數組合併:\",tuple1+tuple2)\n",
        "print(\"合併後排序:\",sorted(tuple1+tuple2))"
      ],
      "execution_count": 2,
      "outputs": [
        {
          "output_type": "stream",
          "text": [
            "請輸入第1個數組: 16 78 0 8 56\n",
            "請輸入第2個數組: 88 -3 28 39 5 9\n",
            "數組合併: (16, 78, 0, 8, 56, 88, -3, 28, 39, 5, 9)\n",
            "合併後排序: [-3, 0, 5, 8, 9, 16, 28, 39, 56, 78, 88]\n"
          ],
          "name": "stdout"
        }
      ]
    },
    {
      "cell_type": "code",
      "metadata": {
        "colab": {
          "base_uri": "https://localhost:8080/"
        },
        "id": "r9u2YZLBfZwE",
        "outputId": "880a10e7-d25d-4025-9e87-5964f669b1d2"
      },
      "source": [
        "set1= set(input())\n",
        "print(set1)\n",
        "print(len(set1))"
      ],
      "execution_count": 3,
      "outputs": [
        {
          "output_type": "stream",
          "text": [
            "abccc defghi jjklmmn opqrst uvwXYX xyz\n",
            "{'z', 'j', 'k', 'g', 'o', 'n', 'm', 'v', ' ', 'f', 'p', 'd', 'x', 'l', 'r', 'c', 's', 'i', 'b', 'X', 'a', 'Y', 'y', 't', 'w', 'h', 'u', 'e', 'q'}\n",
            "29\n"
          ],
          "name": "stdout"
        }
      ]
    },
    {
      "cell_type": "code",
      "metadata": {
        "colab": {
          "base_uri": "https://localhost:8080/"
        },
        "id": "wwMck8Pcgj5g",
        "outputId": "bb0366f4-fdb9-45be-ab81-91e90adb573d"
      },
      "source": [
        "ord('a')"
      ],
      "execution_count": 4,
      "outputs": [
        {
          "output_type": "execute_result",
          "data": {
            "text/plain": [
              "97"
            ]
          },
          "metadata": {
            "tags": []
          },
          "execution_count": 4
        }
      ]
    },
    {
      "cell_type": "code",
      "metadata": {
        "colab": {
          "base_uri": "https://localhost:8080/"
        },
        "id": "tqgmpXWmg852",
        "outputId": "440a242f-4c1d-4a23-f481-ed1dfb7c49f4"
      },
      "source": [
        "ord(\"z\")"
      ],
      "execution_count": 5,
      "outputs": [
        {
          "output_type": "execute_result",
          "data": {
            "text/plain": [
              "122"
            ]
          },
          "metadata": {
            "tags": []
          },
          "execution_count": 5
        }
      ]
    },
    {
      "cell_type": "code",
      "metadata": {
        "colab": {
          "base_uri": "https://localhost:8080/",
          "height": 35
        },
        "id": "EwtsX8HkhOmT",
        "outputId": "034e28d6-5a71-474c-bc1e-6bf9539d530c"
      },
      "source": [
        "chr(97)"
      ],
      "execution_count": 7,
      "outputs": [
        {
          "output_type": "execute_result",
          "data": {
            "application/vnd.google.colaboratory.intrinsic+json": {
              "type": "string"
            },
            "text/plain": [
              "'a'"
            ]
          },
          "metadata": {
            "tags": []
          },
          "execution_count": 7
        }
      ]
    },
    {
      "cell_type": "code",
      "metadata": {
        "colab": {
          "base_uri": "https://localhost:8080/",
          "height": 35
        },
        "id": "S6qPvKaEhQwe",
        "outputId": "d5c327a1-70cb-475d-cdb8-08a2564a2db6"
      },
      "source": [
        "chr(122)"
      ],
      "execution_count": 13,
      "outputs": [
        {
          "output_type": "execute_result",
          "data": {
            "application/vnd.google.colaboratory.intrinsic+json": {
              "type": "string"
            },
            "text/plain": [
              "'z'"
            ]
          },
          "metadata": {
            "tags": []
          },
          "execution_count": 13
        }
      ]
    },
    {
      "cell_type": "code",
      "metadata": {
        "colab": {
          "base_uri": "https://localhost:8080/"
        },
        "id": "bHT_-UUig_ub",
        "outputId": "58d61dd1-3a86-483b-8295-1b82840dc68d"
      },
      "source": [
        "setAlpha = range(97,123)\n",
        "print(setAlpha)"
      ],
      "execution_count": 6,
      "outputs": [
        {
          "output_type": "stream",
          "text": [
            "range(97, 123)\n"
          ],
          "name": "stdout"
        }
      ]
    },
    {
      "cell_type": "code",
      "metadata": {
        "colab": {
          "base_uri": "https://localhost:8080/"
        },
        "id": "ZdFJHMEnhLg_",
        "outputId": "564b2a57-9df4-482e-c63f-050de3ddf273"
      },
      "source": [
        "setAlpha = set(map(chr,range(97,123)))\n",
        "print(\"請輸入字母是否為全字母句,輸入end結束\")\n",
        "while True:\n",
        "  temp = input()\n",
        "  if temp == \"end\":\n",
        "    break\n",
        "  set1 = set(temp.lower())\n",
        "  if len(set1 & setAlpha) == 26:  #可能會有空白阿 dash之類 但用交集就OK\n",
        "      print(\"此句為全字母句\")\n",
        "  else:\n",
        "      print(\"此句不是全字母句\")"
      ],
      "execution_count": 12,
      "outputs": [
        {
          "output_type": "stream",
          "text": [
            "請輸入字母是否為全字母句,輸入end結束\n",
            "The quick brown fox jumps over the lazy dog\n",
            "此句為全字母句\n",
            "Quick fox jumps nightly above wizard\n",
            "此句為全字母句\n",
            "These can be weapons of terror\n",
            "此句不是全字母句\n",
            "end\n"
          ],
          "name": "stdout"
        }
      ]
    },
    {
      "cell_type": "code",
      "metadata": {
        "colab": {
          "base_uri": "https://localhost:8080/"
        },
        "id": "Z_8aeKrjjOmL",
        "outputId": "f0f33823-aa74-4476-edb2-a46e41929c1a"
      },
      "source": [
        "print(\"please input color dict, when key's input is 'end' stop\" )\n",
        "dict1=dict()\n",
        "while True:\n",
        "  key =input(\"Key:\")\n",
        "  if key =='end':\n",
        "    break\n",
        "  value = input(\"Value:\")\n",
        "  dict1[key]=value\n",
        "\n",
        "for i in sorted(dict1.keys()):\n",
        "  print(i,\": \",dict1[i],sep=\" \")"
      ],
      "execution_count": 14,
      "outputs": [
        {
          "output_type": "stream",
          "text": [
            "please input color dict, when key's input is 'end' stop\n",
            "Key:Red\n",
            "Value:#FF0000\n",
            "Key:Green\n",
            "Value:#00FF00\n",
            "Key:Blue\n",
            "Value:#0000\n",
            "Key:Orange\n",
            "Value:#FF8800\n",
            "Key:Yellow\n",
            "Value:#FFFF00\n",
            "Key:end\n",
            "Blue :  #0000\n",
            "Green :  #00FF00\n",
            "Orange :  #FF8800\n",
            "Red :  #FF0000\n",
            "Yellow :  #FFFF00\n"
          ],
          "name": "stdout"
        }
      ]
    },
    {
      "cell_type": "code",
      "metadata": {
        "colab": {
          "base_uri": "https://localhost:8080/"
        },
        "id": "cFSqDoSglMpl",
        "outputId": "fa9eb40e-9485-46b3-bb47-de3f5210425a"
      },
      "source": [
        "temp =input(\"請輸入一連串字串,中間以空白座分隔:\").split(\" \")\n",
        "tuple1 = tuple(temp)\n",
        "print(\"數組內容:\",tuple1)\n",
        "print(\"前三個:\",tuple1[0:3])\n",
        "print(\"後三個:\",tuple1[-3:])"
      ],
      "execution_count": 38,
      "outputs": [
        {
          "output_type": "stream",
          "text": [
            "請輸入一連串字串,中間以空白座分隔:apple banana orange pineapple watermelon grape peach\n",
            "數組內容: ('apple', 'banana', 'orange', 'pineapple', 'watermelon', 'grape', 'peach')\n",
            "前三個: ('apple', 'banana', 'orange')\n",
            "後三個: ('watermelon', 'grape', 'peach')\n"
          ],
          "name": "stdout"
        }
      ]
    },
    {
      "cell_type": "code",
      "metadata": {
        "colab": {
          "base_uri": "https://localhost:8080/"
        },
        "id": "s4upu6TKnMLl",
        "outputId": "8898a8ff-a3b9-46b7-9085-9b50013b919d"
      },
      "source": [
        "list1 = [1,4,6,7,34,3]\n",
        "print(list1[len(list1)-1])"
      ],
      "execution_count": 20,
      "outputs": [
        {
          "output_type": "stream",
          "text": [
            "3\n"
          ],
          "name": "stdout"
        }
      ]
    }
  ]
}
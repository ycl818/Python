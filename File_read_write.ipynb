{
  "nbformat": 4,
  "nbformat_minor": 0,
  "metadata": {
    "colab": {
      "name": "File_read_write.ipynb",
      "provenance": [],
      "toc_visible": true,
      "authorship_tag": "ABX9TyMQ8LAcvhsxf+mqLTTN45cO",
      "include_colab_link": true
    },
    "kernelspec": {
      "name": "python3",
      "display_name": "Python 3"
    }
  },
  "cells": [
    {
      "cell_type": "markdown",
      "metadata": {
        "id": "view-in-github",
        "colab_type": "text"
      },
      "source": [
        "<a href=\"https://colab.research.google.com/github/ycl818/Python/blob/main/File_read_write.ipynb\" target=\"_parent\"><img src=\"https://colab.research.google.com/assets/colab-badge.svg\" alt=\"Open In Colab\"/></a>"
      ]
    },
    {
      "cell_type": "code",
      "metadata": {
        "colab": {
          "base_uri": "https://localhost:8080/"
        },
        "id": "dQOdig__-Uim",
        "outputId": "40dd8139-7c9d-4e10-fea1-97fcdaed7315"
      },
      "source": [
        "fobj = open(\"emailtext.txt\",encoding=\"utf-8\")\n",
        "content = fobj.readlines()\n",
        "fobj.close()\n",
        "print(content)\n",
        "print(type(content))"
      ],
      "execution_count": 9,
      "outputs": [
        {
          "output_type": "stream",
          "text": [
            "['Dear Prof.Jesse,\\n', '\\n', 'My name is Yi-Chien Lee and my NUID is 001083663. I am a international student from Taiwan. \\n', 'I want to take a semester off beacuse my body has a problem and I should take a rest and be carful observed my body condition.\\n', 'It is not convenient to go back to the US to study. So what should I do? Can I take a semester off? This means I will back to campus in 2021 Spring.\\n', 'If can, I want to know do I need to fill in any form? And do I needs to change my I20?\\n', '\\n', '\\n', '\\n', '\\n', 'Dear Prof.Jesse,\\n', '\\n', 'My name is Yi-Chien Lee and my NUID is 001083663. I am an international student from Taiwan.\\n', 'I want to take a semester off because my body has a problem. My condition needs to be observed and has proper rest. I think is more appropriate to observe and treat my body in Taiwan.\\n', '\\n', 'So what should I do? Can I take a semester off? This means I will back to campus in 2021 Spring.\\n', 'If can, I want to know do I need to fill in any form? And do I need to change my I20?\\n', '\\n', \"What I worry about is that my I20 has a date that says I should graduate. If I taking a semester off, I will graduate one semester later. I don't know if it can.\\n\", '\\n', 'Sincerely,\\n', 'Yi-Chien Lee\\n', '\\n', '\\n', 'Dear Erica,\\n', '\\n', 'Thank you for your explaination. I have another question.\\n', ' My body condition is that my surgery has been completed, and the doctor recommends rest and observastion for several weeks.\\n', 'That is, there is no dollow-up treatment unless the body has other conditions.\\n', '\\n', 'After reading the medical plan, I found that when I want to return to the US, I still need to fill out re-entry form for review,including the diagnosis process.\\n', 'I may not have the information to provide this part.\\n', '\\n', 'So, I want to know if I am more suitable to apply for personal plan. And if I choose personal, which academic advisor should \\n', '\\n', '我還有其他的問題,我的身體狀況是我目前手術已經完成，醫生建議靜養持續觀察幾周。\\n', '\\n', '也就是沒有後續的治療 除非身體有出現其他狀況\\n', '在  我看了medical的方案後，發現要回來美國時，還需要再填一份表格做審核，其中包括診斷過程，這個部分我可能沒有資料可以提供\\n', '所以我想知道我是不是比較適合申請personal\\n', '\\n', '那選personal的話   我該連絡哪一位advisor   因為規定上說需要advisor的同意\\n', '\\n', '那 ?\\n', '我想知道新的顧問是誰，因為jesse marsh已經離職\\n', '\\n', '\\n', '\\n', '\\n', '\\n', '\\n', '\\n']\n",
            "<class 'list'>\n"
          ],
          "name": "stdout"
        }
      ]
    },
    {
      "cell_type": "code",
      "metadata": {
        "id": "p_mg_4ca_YNl"
      },
      "source": [
        "fobj = open(\"copyemail.txt\",\"w\",encoding=\"utf-8\")\n",
        "fobj.write(str(content))\n",
        "fobj.close()"
      ],
      "execution_count": 11,
      "outputs": []
    },
    {
      "cell_type": "code",
      "metadata": {
        "colab": {
          "base_uri": "https://localhost:8080/"
        },
        "id": "bouonwniAeeI",
        "outputId": "29a6b3e9-8b60-4124-ef79-1ce5f7bc67bd"
      },
      "source": [
        "with open(\"numadd.txt\") as fobj:\n",
        "  content =fobj.read().split()\n",
        "print(content)\n",
        "print(type(content))"
      ],
      "execution_count": 20,
      "outputs": [
        {
          "output_type": "stream",
          "text": [
            "['15', '20', '30', '35', '40', '45', '50']\n",
            "<class 'list'>\n"
          ],
          "name": "stdout"
        }
      ]
    },
    {
      "cell_type": "code",
      "metadata": {
        "colab": {
          "base_uri": "https://localhost:8080/",
          "height": 163
        },
        "id": "M-MmaG1KBAEK",
        "outputId": "d01e737d-cc99-4954-cabb-d8f31e8248f0"
      },
      "source": [
        "sum(int(content))"
      ],
      "execution_count": 19,
      "outputs": [
        {
          "output_type": "error",
          "ename": "ValueError",
          "evalue": "ignored",
          "traceback": [
            "\u001b[0;31m---------------------------------------------------------------------------\u001b[0m",
            "\u001b[0;31mValueError\u001b[0m                                Traceback (most recent call last)",
            "\u001b[0;32m<ipython-input-19-5aff33a2e07a>\u001b[0m in \u001b[0;36m<module>\u001b[0;34m()\u001b[0m\n\u001b[0;32m----> 1\u001b[0;31m \u001b[0msum\u001b[0m\u001b[0;34m(\u001b[0m\u001b[0mint\u001b[0m\u001b[0;34m(\u001b[0m\u001b[0mcontent\u001b[0m\u001b[0;34m)\u001b[0m\u001b[0;34m)\u001b[0m\u001b[0;34m\u001b[0m\u001b[0;34m\u001b[0m\u001b[0m\n\u001b[0m",
            "\u001b[0;31mValueError\u001b[0m: invalid literal for int() with base 10: '15 20 30 35 40 45 50'"
          ]
        }
      ]
    },
    {
      "cell_type": "code",
      "metadata": {
        "colab": {
          "base_uri": "https://localhost:8080/"
        },
        "id": "vchOm47fBEuh",
        "outputId": "eb129a76-9434-4d4c-8892-cc55ab14925b"
      },
      "source": [
        "print(sum(map(int,content)))"
      ],
      "execution_count": 21,
      "outputs": [
        {
          "output_type": "stream",
          "text": [
            "235\n"
          ],
          "name": "stdout"
        }
      ]
    }
  ]
}
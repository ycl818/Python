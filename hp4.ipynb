{
  "nbformat": 4,
  "nbformat_minor": 0,
  "metadata": {
    "colab": {
      "name": "hp4.ipynb",
      "provenance": [],
      "authorship_tag": "ABX9TyMusFPhWJlbXZcum4Z9796l",
      "include_colab_link": true
    },
    "kernelspec": {
      "name": "python3",
      "display_name": "Python 3"
    }
  },
  "cells": [
    {
      "cell_type": "markdown",
      "metadata": {
        "id": "view-in-github",
        "colab_type": "text"
      },
      "source": [
        "<a href=\"https://colab.research.google.com/github/ycl818/Python/blob/main/hp4.ipynb\" target=\"_parent\"><img src=\"https://colab.research.google.com/assets/colab-badge.svg\" alt=\"Open In Colab\"/></a>"
      ]
    },
    {
      "cell_type": "code",
      "metadata": {
        "colab": {
          "base_uri": "https://localhost:8080/"
        },
        "id": "z0eVZ1X5tRF2",
        "outputId": "cebda93d-538e-42aa-a3ed-f4cefad0b192"
      },
      "source": [
        "aintr=set(input(\"請輸入A的興趣:\").split(\" \"))\n",
        "bintr=set(input(\"請輸入B的興趣:\").split(\" \"))\n",
        "\n",
        "print(\"A與B所有的興趣:\",sorted(list(aintr | bintr)))\n",
        "print(\"A與B共有的興趣:\",sorted(list(aintr & bintr)))\n",
        "print(\"A與B彼此沒有的興趣:\",sorted(list(aintr ^ bintr)))\n",
        "print(\"A有但B沒有的興趣:\",sorted(list(aintr-bintr)))\n"
      ],
      "execution_count": 6,
      "outputs": [
        {
          "output_type": "stream",
          "text": [
            "請輸入A的興趣:sing baseball piano read dance draw\n",
            "請輸入B的興趣:travel baseball swim dance hiking\n",
            "A與B所有的興趣: ['baseball', 'dance', 'draw', 'hiking', 'piano', 'read', 'sing', 'swim', 'travel']\n",
            "A與B共有的興趣: ['baseball', 'dance']\n",
            "A與B彼此沒有的興趣: ['draw', 'hiking', 'piano', 'read', 'sing', 'swim', 'travel']\n",
            "A有但B沒有的興趣: ['draw', 'piano', 'read', 'sing']\n"
          ],
          "name": "stdout"
        }
      ]
    }
  ]
}
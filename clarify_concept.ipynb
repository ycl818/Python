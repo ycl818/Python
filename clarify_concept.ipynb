{
  "nbformat": 4,
  "nbformat_minor": 0,
  "metadata": {
    "colab": {
      "name": "clarify_concept.ipynb",
      "provenance": [],
      "authorship_tag": "ABX9TyOHhlEkC/4yDKyYQpOIc1pD",
      "include_colab_link": true
    },
    "kernelspec": {
      "name": "python3",
      "display_name": "Python 3"
    }
  },
  "cells": [
    {
      "cell_type": "markdown",
      "metadata": {
        "id": "view-in-github",
        "colab_type": "text"
      },
      "source": [
        "<a href=\"https://colab.research.google.com/github/ycl818/Python/blob/main/clarify_concept.ipynb\" target=\"_parent\"><img src=\"https://colab.research.google.com/assets/colab-badge.svg\" alt=\"Open In Colab\"/></a>"
      ]
    },
    {
      "cell_type": "code",
      "metadata": {
        "colab": {
          "base_uri": "https://localhost:8080/"
        },
        "id": "nSQG1KBWpVM7",
        "outputId": "29306aca-2421-45a4-e69a-ad47f019e07d"
      },
      "source": [
        "def f(y):\n",
        "  y.append(1)\n",
        "\n",
        "x=[0]\n",
        "f(x)\n",
        "print(x)"
      ],
      "execution_count": 2,
      "outputs": [
        {
          "output_type": "stream",
          "text": [
            "[0, 1]\n"
          ],
          "name": "stdout"
        }
      ]
    },
    {
      "cell_type": "code",
      "metadata": {
        "colab": {
          "base_uri": "https://localhost:8080/"
        },
        "id": "wcNort0TpoOT",
        "outputId": "0a872786-cfc3-45fd-aec4-3081e2bf904e"
      },
      "source": [
        "def ff(y):\n",
        "  y+=1\n",
        "\n",
        "x=0\n",
        "ff(x)\n",
        "print(x)"
      ],
      "execution_count": 5,
      "outputs": [
        {
          "output_type": "stream",
          "text": [
            "0\n"
          ],
          "name": "stdout"
        }
      ]
    }
  ]
}
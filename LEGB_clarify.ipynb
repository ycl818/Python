{
  "nbformat": 4,
  "nbformat_minor": 0,
  "metadata": {
    "colab": {
      "name": "LEGB_clarify.ipynb",
      "provenance": [],
      "authorship_tag": "ABX9TyPKH0VQoZBQiFDTT4YQMop2",
      "include_colab_link": true
    },
    "kernelspec": {
      "name": "python3",
      "display_name": "Python 3"
    }
  },
  "cells": [
    {
      "cell_type": "markdown",
      "metadata": {
        "id": "view-in-github",
        "colab_type": "text"
      },
      "source": [
        "<a href=\"https://colab.research.google.com/github/ycl818/Python/blob/main/LEGB_clarify.ipynb\" target=\"_parent\"><img src=\"https://colab.research.google.com/assets/colab-badge.svg\" alt=\"Open In Colab\"/></a>"
      ]
    },
    {
      "cell_type": "code",
      "metadata": {
        "colab": {
          "base_uri": "https://localhost:8080/"
        },
        "id": "c362dABEttP2",
        "outputId": "3156f746-359a-40d2-81ed-0f15f32e47a7"
      },
      "source": [
        "#LEGB\n",
        "#local enclosed global built-in\n",
        "\n",
        "x =1 #global\n",
        "\n",
        "def f():\n",
        "  x=5  #enclosed\n",
        "  def ff():\n",
        "    x=10  #local\n",
        "    print(x)\n",
        "  ff()\n",
        "  print(x)\n",
        "\n",
        "f()\n",
        "\n",
        "print(x)"
      ],
      "execution_count": 10,
      "outputs": [
        {
          "output_type": "stream",
          "text": [
            "10\n",
            "5\n",
            "1\n"
          ],
          "name": "stdout"
        }
      ]
    },
    {
      "cell_type": "code",
      "metadata": {
        "colab": {
          "base_uri": "https://localhost:8080/"
        },
        "id": "EIdDicSPu87p",
        "outputId": "f6c7e443-0d4a-4994-d050-da3b5b8a7f35"
      },
      "source": [
        "x =1 #global\n",
        "\n",
        "def f():\n",
        "  x=5  #enclosed\n",
        "  def ff():\n",
        "    nonlocal x\n",
        "    x=10  #local\n",
        "    print(x)\n",
        "  ff()\n",
        "  print(x)\n",
        "\n",
        "f()\n",
        "\n",
        "print(x)"
      ],
      "execution_count": 11,
      "outputs": [
        {
          "output_type": "stream",
          "text": [
            "10\n",
            "10\n",
            "1\n"
          ],
          "name": "stdout"
        }
      ]
    },
    {
      "cell_type": "code",
      "metadata": {
        "colab": {
          "base_uri": "https://localhost:8080/"
        },
        "id": "4oE9NVaVvN46",
        "outputId": "ba41939a-3401-448d-f7ad-c0d0cc796956"
      },
      "source": [
        "x =1 #global\n",
        "\n",
        "def f():\n",
        "  x=5  #enclosed\n",
        "  def ff():\n",
        "    global x\n",
        "    x=10  #local\n",
        "    print(x)\n",
        "  ff()\n",
        "  print(x)\n",
        "\n",
        "f()\n",
        "\n",
        "print(x)"
      ],
      "execution_count": 12,
      "outputs": [
        {
          "output_type": "stream",
          "text": [
            "10\n",
            "5\n",
            "10\n"
          ],
          "name": "stdout"
        }
      ]
    }
  ]
}
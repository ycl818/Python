{
  "nbformat": 4,
  "nbformat_minor": 0,
  "metadata": {
    "colab": {
      "name": "List_game.ipynb",
      "provenance": [],
      "collapsed_sections": [],
      "authorship_tag": "ABX9TyMKcjRpfV4QvpIQDDj3eT9J",
      "include_colab_link": true
    },
    "kernelspec": {
      "name": "python3",
      "display_name": "Python 3"
    }
  },
  "cells": [
    {
      "cell_type": "markdown",
      "metadata": {
        "id": "view-in-github",
        "colab_type": "text"
      },
      "source": [
        "<a href=\"https://colab.research.google.com/github/ycl818/Python/blob/main/List_game.ipynb\" target=\"_parent\"><img src=\"https://colab.research.google.com/assets/colab-badge.svg\" alt=\"Open In Colab\"/></a>"
      ]
    },
    {
      "cell_type": "markdown",
      "metadata": {
        "id": "ldQ15jtZDhER"
      },
      "source": [
        "#List game : Guess number"
      ]
    },
    {
      "cell_type": "code",
      "metadata": {
        "colab": {
          "base_uri": "https://localhost:8080/"
        },
        "id": "gon6p7pZDgPa",
        "outputId": "5530b28f-fad7-431a-8cce-4991102f4837"
      },
      "source": [
        "import random\n",
        "\n",
        "pwd = random.sample(range(0,10),4)\n",
        "A = 0\n",
        "B = 0\n",
        "print(pwd)\n",
        "while A!=4:\n",
        "  num = input(\"please input 4 nums: \")\n",
        "  while len(num)!=4 or len(set(num))!=4:\n",
        "    num = input(\"pleae input 4  nums and the num cannot repeat\")\n",
        "  list1= list(map(int,list(num)))\n",
        "  A = 0\n",
        "  B = 0\n",
        "  for i in list1:\n",
        "    if i in pwd:\n",
        "      if list1.index(i) == pwd.index(i):\n",
        "        A+=1\n",
        "      else:\n",
        "        B+=1\n",
        "  print(num,\" : \",A,\"A\",B,\"B\",sep=\"\")\n",
        "print(\"Congratulation, you guess right!! The password is:\",num)"
      ],
      "execution_count": 8,
      "outputs": [
        {
          "output_type": "stream",
          "text": [
            "[3, 9, 4, 6]\n",
            "please input 4 nums: 3946\n",
            "3946 : 4A0B\n",
            "Congratulation, you guess right!! The password is: 3946\n"
          ],
          "name": "stdout"
        }
      ]
    }
  ]
}
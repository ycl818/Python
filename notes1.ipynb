{
  "nbformat": 4,
  "nbformat_minor": 0,
  "metadata": {
    "colab": {
      "name": "notes1.ipynb",
      "provenance": [],
      "toc_visible": true,
      "authorship_tag": "ABX9TyM7WbqhFHkEOYXTjogdFySA",
      "include_colab_link": true
    },
    "kernelspec": {
      "name": "python3",
      "display_name": "Python 3"
    }
  },
  "cells": [
    {
      "cell_type": "markdown",
      "metadata": {
        "id": "view-in-github",
        "colab_type": "text"
      },
      "source": [
        "<a href=\"https://colab.research.google.com/github/ycl818/Python/blob/main/notes1.ipynb\" target=\"_parent\"><img src=\"https://colab.research.google.com/assets/colab-badge.svg\" alt=\"Open In Colab\"/></a>"
      ]
    },
    {
      "cell_type": "markdown",
      "metadata": {
        "id": "LS_TRaNN01-y"
      },
      "source": [
        "#觀念"
      ]
    },
    {
      "cell_type": "code",
      "metadata": {
        "colab": {
          "base_uri": "https://localhost:8080/"
        },
        "id": "HOlhAn2v06re",
        "outputId": "7f69916e-174a-4767-9587-6a8ac7a4eeda"
      },
      "source": [
        "print(\n",
        "    'hello')"
      ],
      "execution_count": 5,
      "outputs": [
        {
          "output_type": "stream",
          "text": [
            "hello\n"
          ],
          "name": "stdout"
        }
      ]
    },
    {
      "cell_type": "markdown",
      "metadata": {
        "id": "4mt4SYAy1YoP"
      },
      "source": [
        ""
      ]
    },
    {
      "cell_type": "code",
      "metadata": {
        "id": "1VMWbq-L1XGq"
      },
      "source": [
        "123  #產生一個型別為 int 的物件, 值為123"
      ],
      "execution_count": null,
      "outputs": []
    },
    {
      "cell_type": "code",
      "metadata": {
        "id": "hlGZt2cU1jQB"
      },
      "source": [
        "3.4 #產生一個型別為 float 的物件, 值為3.4"
      ],
      "execution_count": null,
      "outputs": []
    },
    {
      "cell_type": "code",
      "metadata": {
        "id": "cdF8B-Lm1tO7"
      },
      "source": [
        "'aser' #產生一個型別為 str 的物件, 值為'aser'"
      ],
      "execution_count": null,
      "outputs": []
    },
    {
      "cell_type": "code",
      "metadata": {
        "id": "FBXx8D_91zlq"
      },
      "source": [
        "[2,3] #產生一個型別為 list 的物件, 值為[2,3]"
      ],
      "execution_count": null,
      "outputs": []
    },
    {
      "cell_type": "code",
      "metadata": {
        "colab": {
          "base_uri": "https://localhost:8080/"
        },
        "id": "qHNcHfDq17ZL",
        "outputId": "76513903-9204-41dd-c35e-bde5e3eca6a7"
      },
      "source": [
        "l=[2,3]\n",
        "for a in l:\n",
        "  a=0\n",
        "print(l)"
      ],
      "execution_count": 6,
      "outputs": [
        {
          "output_type": "stream",
          "text": [
            "[2, 3]\n"
          ],
          "name": "stdout"
        }
      ]
    },
    {
      "cell_type": "markdown",
      "metadata": {
        "id": "jhQ7DBM520qN"
      },
      "source": [
        "#函式"
      ]
    },
    {
      "cell_type": "code",
      "metadata": {
        "colab": {
          "base_uri": "https://localhost:8080/"
        },
        "id": "j3P709j52jf6",
        "outputId": "78ff0d6f-e0ba-4c0a-ce1a-f0aec7fd240d"
      },
      "source": [
        "def f():\n",
        "  print('Hello')\n",
        "\n",
        "f()   #讓f去指向1.2行的物件\n"
      ],
      "execution_count": 8,
      "outputs": [
        {
          "output_type": "stream",
          "text": [
            "Hello\n"
          ],
          "name": "stdout"
        }
      ]
    },
    {
      "cell_type": "code",
      "metadata": {
        "colab": {
          "base_uri": "https://localhost:8080/"
        },
        "id": "-YyfSIiY4TVw",
        "outputId": "17edcd06-015e-417a-b7e2-c5a8eea807bd"
      },
      "source": [
        "def f():\n",
        "  print('Hello')\n",
        "\n",
        "print(f)"
      ],
      "execution_count": 12,
      "outputs": [
        {
          "output_type": "stream",
          "text": [
            "<function f at 0x7fea0e85fe18>\n"
          ],
          "name": "stdout"
        }
      ]
    },
    {
      "cell_type": "code",
      "metadata": {
        "colab": {
          "base_uri": "https://localhost:8080/"
        },
        "id": "S6pUtEsv4aHZ",
        "outputId": "dfc8e9a2-06cb-4508-a79e-0469fc5044d3"
      },
      "source": [
        "def f():\n",
        "  print('Hello')\n",
        "\n",
        "f=6\n",
        "print(6)\n"
      ],
      "execution_count": 13,
      "outputs": [
        {
          "output_type": "stream",
          "text": [
            "6\n"
          ],
          "name": "stdout"
        }
      ]
    },
    {
      "cell_type": "markdown",
      "metadata": {
        "id": "E4cHYe_C4peo"
      },
      "source": [
        "##只是改名稱指向物件"
      ]
    },
    {
      "cell_type": "code",
      "metadata": {
        "colab": {
          "base_uri": "https://localhost:8080/"
        },
        "id": "kd4ul2Z-4iQN",
        "outputId": "29880977-2b74-4185-f5ed-2b1611cd66c9"
      },
      "source": [
        "def f():\n",
        "  print('Hello')\n",
        "\n",
        "g=f\n",
        "print(id(g))\n",
        "print(id(f))"
      ],
      "execution_count": 14,
      "outputs": [
        {
          "output_type": "stream",
          "text": [
            "140643242866616\n",
            "140643242866616\n"
          ],
          "name": "stdout"
        }
      ]
    },
    {
      "cell_type": "markdown",
      "metadata": {
        "id": "B4IsVYFS3L88"
      },
      "source": [
        "##不會報錯"
      ]
    },
    {
      "cell_type": "code",
      "metadata": {
        "id": "-9yje9Me2_0U"
      },
      "source": [
        "def f():\n",
        "  prin\n",
        "  t(x)"
      ],
      "execution_count": 10,
      "outputs": []
    },
    {
      "cell_type": "markdown",
      "metadata": {
        "id": "zwADPb053eaJ"
      },
      "source": [
        "##沒縮排"
      ]
    },
    {
      "cell_type": "code",
      "metadata": {
        "colab": {
          "base_uri": "https://localhost:8080/",
          "height": 130
        },
        "id": "mtrlixwg3YcK",
        "outputId": "1e14e162-8b05-4b79-aa88-861115e9ecd7"
      },
      "source": [
        "def f():\n",
        "  print('Hello')\n",
        "\n",
        " f()"
      ],
      "execution_count": 11,
      "outputs": [
        {
          "output_type": "error",
          "ename": "IndentationError",
          "evalue": "ignored",
          "traceback": [
            "\u001b[0;36m  File \u001b[0;32m\"<ipython-input-11-e233d058c728>\"\u001b[0;36m, line \u001b[0;32m4\u001b[0m\n\u001b[0;31m    f()\u001b[0m\n\u001b[0m       ^\u001b[0m\n\u001b[0;31mIndentationError\u001b[0m\u001b[0;31m:\u001b[0m unindent does not match any outer indentation level\n"
          ]
        }
      ]
    },
    {
      "cell_type": "code",
      "metadata": {
        "colab": {
          "base_uri": "https://localhost:8080/"
        },
        "id": "Utk2osbb5D5c",
        "outputId": "bed9fcf8-51a1-4361-fb5e-17a93e1f2935"
      },
      "source": [
        "def f(s):\n",
        "  print(s)\n",
        "\n",
        "f('Hello')\n",
        "f(3)"
      ],
      "execution_count": 15,
      "outputs": [
        {
          "output_type": "stream",
          "text": [
            "Hello\n",
            "3\n"
          ],
          "name": "stdout"
        }
      ]
    },
    {
      "cell_type": "code",
      "metadata": {
        "colab": {
          "base_uri": "https://localhost:8080/"
        },
        "id": "b3F9GOU_5grO",
        "outputId": "d38445f1-d3c4-48c6-d66b-b2f86ba2e074"
      },
      "source": [
        "def f(s):\n",
        "  print(s)\n",
        "\n",
        "print(f('Hello'))"
      ],
      "execution_count": 16,
      "outputs": [
        {
          "output_type": "stream",
          "text": [
            "Hello\n",
            "None\n"
          ],
          "name": "stdout"
        }
      ]
    },
    {
      "cell_type": "code",
      "metadata": {
        "colab": {
          "base_uri": "https://localhost:8080/"
        },
        "id": "Fl9u7MoJ6DcS",
        "outputId": "f80239ed-04e2-43b0-8d11-88a1a4927ac8"
      },
      "source": [
        "def f(s):\n",
        "  print(s)\n",
        "  return 123\n",
        "\n",
        "print(f('Hello'))  #會先變成print(123)"
      ],
      "execution_count": 17,
      "outputs": [
        {
          "output_type": "stream",
          "text": [
            "Hello\n",
            "123\n"
          ],
          "name": "stdout"
        }
      ]
    }
  ]
}
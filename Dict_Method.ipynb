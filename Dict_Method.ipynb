{
  "nbformat": 4,
  "nbformat_minor": 0,
  "metadata": {
    "colab": {
      "name": "Dict_Method.ipynb",
      "provenance": [],
      "collapsed_sections": [],
      "authorship_tag": "ABX9TyMEFqiC+Eh2UPcEpLpdcIt6",
      "include_colab_link": true
    },
    "kernelspec": {
      "name": "python3",
      "display_name": "Python 3"
    }
  },
  "cells": [
    {
      "cell_type": "markdown",
      "metadata": {
        "id": "view-in-github",
        "colab_type": "text"
      },
      "source": [
        "<a href=\"https://colab.research.google.com/github/ycl818/Python/blob/main/Dict_Method.ipynb\" target=\"_parent\"><img src=\"https://colab.research.google.com/assets/colab-badge.svg\" alt=\"Open In Colab\"/></a>"
      ]
    },
    {
      "cell_type": "code",
      "metadata": {
        "id": "WoM6pfD8ZLmZ"
      },
      "source": [
        "dict1 = {'a':1,'b':2,'c':3}"
      ],
      "execution_count": 1,
      "outputs": []
    },
    {
      "cell_type": "code",
      "metadata": {
        "colab": {
          "base_uri": "https://localhost:8080/"
        },
        "id": "KklVI_QtZYTO",
        "outputId": "4dca85f6-4ff3-41a5-f703-76449d63c662"
      },
      "source": [
        "dict1.get('a')"
      ],
      "execution_count": 2,
      "outputs": [
        {
          "output_type": "execute_result",
          "data": {
            "text/plain": [
              "1"
            ]
          },
          "metadata": {
            "tags": []
          },
          "execution_count": 2
        }
      ]
    },
    {
      "cell_type": "code",
      "metadata": {
        "id": "Lcv01h99ZcQK"
      },
      "source": [
        "dict1.get('d')"
      ],
      "execution_count": 3,
      "outputs": []
    },
    {
      "cell_type": "code",
      "metadata": {
        "colab": {
          "base_uri": "https://localhost:8080/"
        },
        "id": "0rgA7WZJZedz",
        "outputId": "c4b1687b-b77a-4bc4-d980-be1ac9aa29b3"
      },
      "source": [
        "dict1.get('d',123)"
      ],
      "execution_count": 4,
      "outputs": [
        {
          "output_type": "execute_result",
          "data": {
            "text/plain": [
              "123"
            ]
          },
          "metadata": {
            "tags": []
          },
          "execution_count": 4
        }
      ]
    },
    {
      "cell_type": "code",
      "metadata": {
        "colab": {
          "base_uri": "https://localhost:8080/"
        },
        "id": "E1KCCLaRZgtd",
        "outputId": "41526630-520c-439c-b52f-cf12a0aa8afc"
      },
      "source": [
        "dict1.get('a',123)"
      ],
      "execution_count": 5,
      "outputs": [
        {
          "output_type": "execute_result",
          "data": {
            "text/plain": [
              "1"
            ]
          },
          "metadata": {
            "tags": []
          },
          "execution_count": 5
        }
      ]
    },
    {
      "cell_type": "code",
      "metadata": {
        "colab": {
          "base_uri": "https://localhost:8080/"
        },
        "id": "cBIfgklDZjWK",
        "outputId": "ab5f7574-dafb-4a15-afd9-d718681a50a4"
      },
      "source": [
        "dict1.pop('a')"
      ],
      "execution_count": 6,
      "outputs": [
        {
          "output_type": "execute_result",
          "data": {
            "text/plain": [
              "1"
            ]
          },
          "metadata": {
            "tags": []
          },
          "execution_count": 6
        }
      ]
    },
    {
      "cell_type": "code",
      "metadata": {
        "colab": {
          "base_uri": "https://localhost:8080/"
        },
        "id": "HVnUI60oZnHp",
        "outputId": "76c9c7e2-6d9a-495e-832e-8ddbf2d59cec"
      },
      "source": [
        "dict1"
      ],
      "execution_count": 7,
      "outputs": [
        {
          "output_type": "execute_result",
          "data": {
            "text/plain": [
              "{'b': 2, 'c': 3}"
            ]
          },
          "metadata": {
            "tags": []
          },
          "execution_count": 7
        }
      ]
    },
    {
      "cell_type": "code",
      "metadata": {
        "colab": {
          "base_uri": "https://localhost:8080/",
          "height": 163
        },
        "id": "R1gJRdIEZpG9",
        "outputId": "a16d053d-8813-4759-d8a4-dd827d0e622b"
      },
      "source": [
        "dict1.pop('d')"
      ],
      "execution_count": 8,
      "outputs": [
        {
          "output_type": "error",
          "ename": "KeyError",
          "evalue": "ignored",
          "traceback": [
            "\u001b[0;31m---------------------------------------------------------------------------\u001b[0m",
            "\u001b[0;31mKeyError\u001b[0m                                  Traceback (most recent call last)",
            "\u001b[0;32m<ipython-input-8-50cf63672c35>\u001b[0m in \u001b[0;36m<module>\u001b[0;34m()\u001b[0m\n\u001b[0;32m----> 1\u001b[0;31m \u001b[0mdict1\u001b[0m\u001b[0;34m.\u001b[0m\u001b[0mpop\u001b[0m\u001b[0;34m(\u001b[0m\u001b[0;34m'd'\u001b[0m\u001b[0;34m)\u001b[0m\u001b[0;34m\u001b[0m\u001b[0;34m\u001b[0m\u001b[0m\n\u001b[0m",
            "\u001b[0;31mKeyError\u001b[0m: 'd'"
          ]
        }
      ]
    },
    {
      "cell_type": "code",
      "metadata": {
        "colab": {
          "base_uri": "https://localhost:8080/"
        },
        "id": "dDr1_qVIZtb5",
        "outputId": "260be5e5-bb08-40bf-c219-6c8aba722fbe"
      },
      "source": [
        "dict1.pop('d',123)"
      ],
      "execution_count": 9,
      "outputs": [
        {
          "output_type": "execute_result",
          "data": {
            "text/plain": [
              "123"
            ]
          },
          "metadata": {
            "tags": []
          },
          "execution_count": 9
        }
      ]
    },
    {
      "cell_type": "code",
      "metadata": {
        "colab": {
          "base_uri": "https://localhost:8080/"
        },
        "id": "XBYJahYKZv4P",
        "outputId": "668e3305-460f-4a4b-c734-ca1a7dd56828"
      },
      "source": [
        "dict1"
      ],
      "execution_count": 10,
      "outputs": [
        {
          "output_type": "execute_result",
          "data": {
            "text/plain": [
              "{'b': 2, 'c': 3}"
            ]
          },
          "metadata": {
            "tags": []
          },
          "execution_count": 10
        }
      ]
    },
    {
      "cell_type": "code",
      "metadata": {
        "colab": {
          "base_uri": "https://localhost:8080/"
        },
        "id": "SW7wrpmjZyCQ",
        "outputId": "615baeb1-bf07-4e01-ad75-67ee842d475e"
      },
      "source": [
        "dict1.pop('c',123)"
      ],
      "execution_count": 11,
      "outputs": [
        {
          "output_type": "execute_result",
          "data": {
            "text/plain": [
              "3"
            ]
          },
          "metadata": {
            "tags": []
          },
          "execution_count": 11
        }
      ]
    },
    {
      "cell_type": "code",
      "metadata": {
        "colab": {
          "base_uri": "https://localhost:8080/"
        },
        "id": "BZ1DNFktZ00W",
        "outputId": "4d7089c7-1ecf-4bed-c7bf-8f79a1ae7bc8"
      },
      "source": [
        "dict1"
      ],
      "execution_count": 12,
      "outputs": [
        {
          "output_type": "execute_result",
          "data": {
            "text/plain": [
              "{'b': 2}"
            ]
          },
          "metadata": {
            "tags": []
          },
          "execution_count": 12
        }
      ]
    },
    {
      "cell_type": "code",
      "metadata": {
        "id": "26Yj1Yg7Z27y"
      },
      "source": [
        "dict1['a']=123"
      ],
      "execution_count": 13,
      "outputs": []
    },
    {
      "cell_type": "code",
      "metadata": {
        "colab": {
          "base_uri": "https://localhost:8080/"
        },
        "id": "1RrujJIYZ6KV",
        "outputId": "2e5ab7b8-a574-4407-c455-92d663a2a0eb"
      },
      "source": [
        "dict1"
      ],
      "execution_count": 14,
      "outputs": [
        {
          "output_type": "execute_result",
          "data": {
            "text/plain": [
              "{'a': 123, 'b': 2}"
            ]
          },
          "metadata": {
            "tags": []
          },
          "execution_count": 14
        }
      ]
    },
    {
      "cell_type": "code",
      "metadata": {
        "colab": {
          "base_uri": "https://localhost:8080/"
        },
        "id": "1c4sotWQZ75g",
        "outputId": "74a70974-0be8-4136-ec33-a048652c639c"
      },
      "source": [
        "dict1.popitem()  #pop the last added element"
      ],
      "execution_count": 15,
      "outputs": [
        {
          "output_type": "execute_result",
          "data": {
            "text/plain": [
              "('a', 123)"
            ]
          },
          "metadata": {
            "tags": []
          },
          "execution_count": 15
        }
      ]
    },
    {
      "cell_type": "markdown",
      "metadata": {
        "id": "uxusgo8oaDaG"
      },
      "source": [
        "##method\n"
      ]
    },
    {
      "cell_type": "code",
      "metadata": {
        "id": "55diJPJ_aFiF"
      },
      "source": [
        "dict1 = {'a':1,'b':2,'c':3}"
      ],
      "execution_count": 24,
      "outputs": []
    },
    {
      "cell_type": "code",
      "metadata": {
        "colab": {
          "base_uri": "https://localhost:8080/"
        },
        "id": "oXSTPxS8aN6V",
        "outputId": "6553ccd4-3314-4f91-8cba-5c006105994f"
      },
      "source": [
        "dict1.setdefault('a',123)"
      ],
      "execution_count": 25,
      "outputs": [
        {
          "output_type": "execute_result",
          "data": {
            "text/plain": [
              "1"
            ]
          },
          "metadata": {
            "tags": []
          },
          "execution_count": 25
        }
      ]
    },
    {
      "cell_type": "code",
      "metadata": {
        "colab": {
          "base_uri": "https://localhost:8080/"
        },
        "id": "1aUyRar1aRt-",
        "outputId": "33725671-546f-4773-d810-f53591f6feff"
      },
      "source": [
        "dict1.setdefault('d',123) #萬一辭典沒有會新增"
      ],
      "execution_count": 26,
      "outputs": [
        {
          "output_type": "execute_result",
          "data": {
            "text/plain": [
              "123"
            ]
          },
          "metadata": {
            "tags": []
          },
          "execution_count": 26
        }
      ]
    },
    {
      "cell_type": "code",
      "metadata": {
        "colab": {
          "base_uri": "https://localhost:8080/"
        },
        "id": "J0Ntkpb3aXBP",
        "outputId": "b54b05cf-f4e0-41cd-a8fa-e6db8d55e06c"
      },
      "source": [
        "dict1"
      ],
      "execution_count": 27,
      "outputs": [
        {
          "output_type": "execute_result",
          "data": {
            "text/plain": [
              "{'a': 1, 'b': 2, 'c': 3, 'd': 123}"
            ]
          },
          "metadata": {
            "tags": []
          },
          "execution_count": 27
        }
      ]
    },
    {
      "cell_type": "code",
      "metadata": {
        "id": "3xbDTIkVahHA"
      },
      "source": [
        "dict2 = {'e':11,'f':22}"
      ],
      "execution_count": 28,
      "outputs": []
    },
    {
      "cell_type": "code",
      "metadata": {
        "id": "6-FjUDsqaljU"
      },
      "source": [
        "dict1.update( dict2)"
      ],
      "execution_count": 29,
      "outputs": []
    },
    {
      "cell_type": "code",
      "metadata": {
        "colab": {
          "base_uri": "https://localhost:8080/"
        },
        "id": "ddZrvIxfaoZj",
        "outputId": "b467e15d-47b1-4e3d-8d58-74323b33c228"
      },
      "source": [
        "dict1"
      ],
      "execution_count": 30,
      "outputs": [
        {
          "output_type": "execute_result",
          "data": {
            "text/plain": [
              "{'a': 1, 'b': 2, 'c': 3, 'd': 123, 'e': 11, 'f': 22}"
            ]
          },
          "metadata": {
            "tags": []
          },
          "execution_count": 30
        }
      ]
    },
    {
      "cell_type": "code",
      "metadata": {
        "colab": {
          "base_uri": "https://localhost:8080/"
        },
        "id": "r8VpCt7basty",
        "outputId": "fc80793e-6b24-4a15-a663-162ff6219172"
      },
      "source": [
        "dict1.items()"
      ],
      "execution_count": 31,
      "outputs": [
        {
          "output_type": "execute_result",
          "data": {
            "text/plain": [
              "dict_items([('a', 1), ('b', 2), ('c', 3), ('d', 123), ('e', 11), ('f', 22)])"
            ]
          },
          "metadata": {
            "tags": []
          },
          "execution_count": 31
        }
      ]
    },
    {
      "cell_type": "code",
      "metadata": {
        "colab": {
          "base_uri": "https://localhost:8080/"
        },
        "id": "LrT7B0tia69F",
        "outputId": "8c18275c-9ecc-480b-f133-a1c736e3c33c"
      },
      "source": [
        "list(dict1.items())"
      ],
      "execution_count": 32,
      "outputs": [
        {
          "output_type": "execute_result",
          "data": {
            "text/plain": [
              "[('a', 1), ('b', 2), ('c', 3), ('d', 123), ('e', 11), ('f', 22)]"
            ]
          },
          "metadata": {
            "tags": []
          },
          "execution_count": 32
        }
      ]
    },
    {
      "cell_type": "code",
      "metadata": {
        "colab": {
          "base_uri": "https://localhost:8080/"
        },
        "id": "lqvvN9PZbAV_",
        "outputId": "0563da33-424c-49fc-dda6-4272b9ad5073"
      },
      "source": [
        "dict1.keys()"
      ],
      "execution_count": 33,
      "outputs": [
        {
          "output_type": "execute_result",
          "data": {
            "text/plain": [
              "dict_keys(['a', 'b', 'c', 'd', 'e', 'f'])"
            ]
          },
          "metadata": {
            "tags": []
          },
          "execution_count": 33
        }
      ]
    },
    {
      "cell_type": "code",
      "metadata": {
        "colab": {
          "base_uri": "https://localhost:8080/"
        },
        "id": "jR3SdvbFbE8Q",
        "outputId": "62c1ea16-7938-4035-a1bb-cd2a57ea8b74"
      },
      "source": [
        "list(dict1.keys())"
      ],
      "execution_count": 34,
      "outputs": [
        {
          "output_type": "execute_result",
          "data": {
            "text/plain": [
              "['a', 'b', 'c', 'd', 'e', 'f']"
            ]
          },
          "metadata": {
            "tags": []
          },
          "execution_count": 34
        }
      ]
    },
    {
      "cell_type": "code",
      "metadata": {
        "colab": {
          "base_uri": "https://localhost:8080/"
        },
        "id": "vgrOTeEWbHdM",
        "outputId": "a58722ad-a9f3-494d-ae27-0b7786ab9149"
      },
      "source": [
        "list(dict1.values())"
      ],
      "execution_count": 35,
      "outputs": [
        {
          "output_type": "execute_result",
          "data": {
            "text/plain": [
              "[1, 2, 3, 123, 11, 22]"
            ]
          },
          "metadata": {
            "tags": []
          },
          "execution_count": 35
        }
      ]
    },
    {
      "cell_type": "markdown",
      "metadata": {
        "id": "l-roinULbLTP"
      },
      "source": [
        "##example"
      ]
    },
    {
      "cell_type": "code",
      "metadata": {
        "colab": {
          "base_uri": "https://localhost:8080/"
        },
        "id": "omSdzOd_bM8U",
        "outputId": "c440fe03-d4b8-4011-e4fe-6d56f966f41b"
      },
      "source": [
        "dict1 = dict()\n",
        "print(\"please input the No.1 dict\")\n",
        "while True:\n",
        "  key=input(\"Key: \")\n",
        "  if key =='end':\n",
        "    break\n",
        "  value = input(\"Value: \")\n",
        "  dict1[key] = value\n",
        "\n",
        "dict2 = dict()\n",
        "print(\"please input the No.2 dict\")\n",
        "while True:\n",
        "  key=input(\"Key: \")\n",
        "  if key =='end':\n",
        "    break\n",
        "  value = input(\"Value: \")\n",
        "  dict2[key] = value\n",
        "\n",
        "dict1.update (dict2)\n",
        "\n",
        "for i in sorted(dict1.keys()):\n",
        "  print(i,\": \",dict1[i],sep=\"\")"
      ],
      "execution_count": 37,
      "outputs": [
        {
          "output_type": "stream",
          "text": [
            "please input the No.1 dict\n",
            "Key: r\n",
            "Value: red\n",
            "Key: b\n",
            "Value: blue\n",
            "Key: g\n",
            "Value: green\n",
            "Key: end\n",
            "please input the No.2 dict\n",
            "Key: y\n",
            "Value: yellow\n",
            "Key: p\n",
            "Value: purple\n",
            "Key: end\n",
            "b: blue\n",
            "g: green\n",
            "p: purple\n",
            "r: red\n",
            "y: yellow\n"
          ],
          "name": "stdout"
        }
      ]
    }
  ]
}
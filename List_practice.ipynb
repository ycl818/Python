{
  "nbformat": 4,
  "nbformat_minor": 0,
  "metadata": {
    "colab": {
      "name": "List_practice.ipynb",
      "provenance": [],
      "collapsed_sections": [],
      "authorship_tag": "ABX9TyM8FsHHGdP8oGp16UX7CKF6",
      "include_colab_link": true
    },
    "kernelspec": {
      "name": "python3",
      "display_name": "Python 3"
    }
  },
  "cells": [
    {
      "cell_type": "markdown",
      "metadata": {
        "id": "view-in-github",
        "colab_type": "text"
      },
      "source": [
        "<a href=\"https://colab.research.google.com/github/ycl818/Python/blob/main/List_practice.ipynb\" target=\"_parent\"><img src=\"https://colab.research.google.com/assets/colab-badge.svg\" alt=\"Open In Colab\"/></a>"
      ]
    },
    {
      "cell_type": "markdown",
      "metadata": {
        "id": "CSoLd2OHbVj-"
      },
      "source": [
        "#List practice 1 \n",
        "## The sum of playing card"
      ]
    },
    {
      "cell_type": "code",
      "metadata": {
        "colab": {
          "base_uri": "https://localhost:8080/"
        },
        "id": "v6wvSONybUCJ",
        "outputId": "318261be-9356-4027-cf80-07deb45a9537"
      },
      "source": [
        "card = ['0','A','2','3','4','5','6','7','8','9','10','J','Q','K']\n",
        "total = 0\n",
        "\n",
        "for i in range(1,6):\n",
        "  temp = input(\"請輸入第\"+str(i)+\"個牌面\")\n",
        "  total += card.index(temp)\n",
        "print(\"The total of card is\",total)\n"
      ],
      "execution_count": 1,
      "outputs": [
        {
          "output_type": "stream",
          "text": [
            "請輸入第1個牌面A\n",
            "請輸入第2個牌面6\n",
            "請輸入第3個牌面J\n",
            "請輸入第4個牌面Q\n",
            "請輸入第5個牌面K\n",
            "The total of card is 43\n"
          ],
          "name": "stdout"
        }
      ]
    },
    {
      "cell_type": "markdown",
      "metadata": {
        "id": "5KIsVYfodFoM"
      },
      "source": [
        "#List practic 2\n",
        "\n",
        "##The sum of odd index"
      ]
    },
    {
      "cell_type": "code",
      "metadata": {
        "colab": {
          "base_uri": "https://localhost:8080/"
        },
        "id": "UOIIGCz1dLnN",
        "outputId": "5b044869-ded6-4f67-a7e5-51300828845e"
      },
      "source": [
        "odd_sum=0\n",
        "list1=list()\n",
        "for i in range (1,11):\n",
        "  temp = int(input(\"請輸入第\"+str(i)+\"個整數\"))\n",
        "  list1.append(temp)\n",
        "\n",
        "\n",
        "print(list1)\n"
      ],
      "execution_count": 62,
      "outputs": [
        {
          "output_type": "stream",
          "text": [
            "請輸入第1個整數68\n",
            "請輸入第2個整數29\n",
            "請輸入第3個整數51\n",
            "請輸入第4個整數32\n",
            "請輸入第5個整數18\n",
            "請輸入第6個整數73\n",
            "請輸入第7個整數30\n",
            "請輸入第8個整數7\n",
            "請輸入第9個整數42\n",
            "請輸入第10個整數96\n",
            "[68, 29, 51, 32, 18, 73, 30, 7, 42, 96]\n"
          ],
          "name": "stdout"
        }
      ]
    },
    {
      "cell_type": "code",
      "metadata": {
        "colab": {
          "base_uri": "https://localhost:8080/"
        },
        "id": "yC8XxoSwism_",
        "outputId": "d1ef7787-14b9-4af8-8b7d-6e59e33514a6"
      },
      "source": [
        "\n",
        "for num in list1:\n",
        "  if num%2==0:\n",
        "    odd_sum += num\n",
        "print(odd_sum)"
      ],
      "execution_count": 63,
      "outputs": [
        {
          "output_type": "stream",
          "text": [
            "286\n"
          ],
          "name": "stdout"
        }
      ]
    },
    {
      "cell_type": "markdown",
      "metadata": {
        "id": "jXey131d5-oh"
      },
      "source": [
        "#List practice 3\n",
        "##find the most frequent number"
      ]
    },
    {
      "cell_type": "code",
      "metadata": {
        "colab": {
          "base_uri": "https://localhost:8080/"
        },
        "id": "Qo6kNiGj6Rmf",
        "outputId": "cc4648ff-c732-4f9e-e11b-a869208166f6"
      },
      "source": [
        "numlist=list()\n",
        "\n",
        "for i in range(1,11):\n",
        "  temp = int(input(\"Input \"+str(i)+\" number:\"))\n",
        "  numlist.append(temp)\n",
        "print(numlist)"
      ],
      "execution_count": 8,
      "outputs": [
        {
          "output_type": "stream",
          "text": [
            "Input 1 number:1\n",
            "Input 2 number:2\n",
            "Input 3 number:1\n",
            "Input 4 number:1\n",
            "Input 5 number:2\n",
            "Input 6 number:2\n",
            "Input 7 number:2\n",
            "Input 8 number:3\n",
            "Input 9 number:3\n",
            "Input 10 number:4\n",
            "[1, 2, 1, 1, 2, 2, 2, 3, 3, 4]\n"
          ],
          "name": "stdout"
        }
      ]
    },
    {
      "cell_type": "code",
      "metadata": {
        "colab": {
          "base_uri": "https://localhost:8080/"
        },
        "id": "guFA6_kb7Jxs",
        "outputId": "e470fd10-52c4-4cd1-fab4-93bced85349b"
      },
      "source": [
        "numcount =list()\n",
        "for i in range(10):\n",
        "  numcount.append(numlist.count(numlist[i]))\n",
        "print(numcount)"
      ],
      "execution_count": 9,
      "outputs": [
        {
          "output_type": "stream",
          "text": [
            "[3, 4, 3, 3, 4, 4, 4, 2, 2, 1]\n"
          ],
          "name": "stdout"
        }
      ]
    },
    {
      "cell_type": "code",
      "metadata": {
        "colab": {
          "base_uri": "https://localhost:8080/"
        },
        "id": "n82MQ9s88EYu",
        "outputId": "2bb32c2d-f1df-4276-dae0-09ad8ae34ce8"
      },
      "source": [
        "maxNumInput = numlist[numcount.index(max(numcount))]   #出現最多次的index\n",
        "print(maxNumInput,\"appears the maximum times, total\",max(numcount),'times')"
      ],
      "execution_count": 16,
      "outputs": [
        {
          "output_type": "stream",
          "text": [
            "2 appears the maximum times, total 4 times\n"
          ],
          "name": "stdout"
        }
      ]
    },
    {
      "cell_type": "markdown",
      "metadata": {
        "id": "X3FsrYKGD4jX"
      },
      "source": [
        "#List practice 4\n",
        "## input 10 nums\n",
        "## output mimium 3 nums and maximum 3 nums"
      ]
    },
    {
      "cell_type": "code",
      "metadata": {
        "colab": {
          "base_uri": "https://localhost:8080/"
        },
        "id": "UxJDKqJFEJ1f",
        "outputId": "be5a3207-c40d-4c1f-d15a-fbbe45f53db8"
      },
      "source": [
        "l=list()\n",
        "for i in range(1,11):\n",
        "  num =int(input(\"please input \" +str(i)+\"'s number \"))\n",
        "  l.append(num)\n",
        "\n",
        "print(l)\n",
        "l.sort(reverse=True)\n",
        "print(\"The maximum three nums:\",l[:3])\n",
        "print(\"The minimum three nums:\",l[7:10])\n",
        "\n",
        "\n",
        "\n",
        "\n",
        "\n",
        "\n"
      ],
      "execution_count": 28,
      "outputs": [
        {
          "output_type": "stream",
          "text": [
            "please input 1's number 68\n",
            "please input 2's number 29\n",
            "please input 3's number 51\n",
            "please input 4's number 32\n",
            "please input 5's number 18\n",
            "please input 6's number 73\n",
            "please input 7's number 30\n",
            "please input 8's number 7\n",
            "please input 9's number 42\n",
            "please input 10's number 96\n",
            "[68, 29, 51, 32, 18, 73, 30, 7, 42, 96]\n",
            "The maximum three nums: [96, 73, 68]\n",
            "The minimum three nums: [29, 18, 7]\n"
          ],
          "name": "stdout"
        }
      ]
    },
    {
      "cell_type": "code",
      "metadata": {
        "id": "NdDWwz4B6geb"
      },
      "source": [
        ""
      ],
      "execution_count": null,
      "outputs": []
    }
  ]
}
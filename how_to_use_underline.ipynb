{
  "nbformat": 4,
  "nbformat_minor": 0,
  "metadata": {
    "colab": {
      "name": "how_to_use_underline.ipynb",
      "provenance": [],
      "collapsed_sections": [],
      "authorship_tag": "ABX9TyM6V67OFaAVglY0BFvJaRov",
      "include_colab_link": true
    },
    "kernelspec": {
      "name": "python3",
      "display_name": "Python 3"
    }
  },
  "cells": [
    {
      "cell_type": "markdown",
      "metadata": {
        "id": "view-in-github",
        "colab_type": "text"
      },
      "source": [
        "<a href=\"https://colab.research.google.com/github/ycl818/Python/blob/main/how_to_use_underline.ipynb\" target=\"_parent\"><img src=\"https://colab.research.google.com/assets/colab-badge.svg\" alt=\"Open In Colab\"/></a>"
      ]
    },
    {
      "cell_type": "code",
      "metadata": {
        "colab": {
          "base_uri": "https://localhost:8080/"
        },
        "id": "iLCmtTOtn5fE",
        "outputId": "6f231749-f72c-4c45-93db-1af3087be7a5"
      },
      "source": [
        "name,_ = 'name$age'.split('$')\n",
        "type(name)"
      ],
      "execution_count": 6,
      "outputs": [
        {
          "output_type": "execute_result",
          "data": {
            "text/plain": [
              "str"
            ]
          },
          "metadata": {
            "tags": []
          },
          "execution_count": 6
        }
      ]
    },
    {
      "cell_type": "code",
      "metadata": {
        "colab": {
          "base_uri": "https://localhost:8080/"
        },
        "id": "cDSdBjQPoLru",
        "outputId": "1a1edd01-1ddb-4369-ce8c-3f4427905870"
      },
      "source": [
        "name = 'name$age'.split('$')\n",
        "type(name)"
      ],
      "execution_count": 7,
      "outputs": [
        {
          "output_type": "execute_result",
          "data": {
            "text/plain": [
              "list"
            ]
          },
          "metadata": {
            "tags": []
          },
          "execution_count": 7
        }
      ]
    },
    {
      "cell_type": "markdown",
      "metadata": {
        "id": "zAMAIDhRtMsD"
      },
      "source": [
        "#_\n",
        "#_name  private\n",
        "#name_  避免重複\n",
        "#__name\n",
        "#__name__  dunder method / magic method\n",
        "          (double underscore)"
      ]
    },
    {
      "cell_type": "code",
      "metadata": {
        "id": "8W-mXc1SsZ9q"
      },
      "source": [
        "class Person:\n",
        "  def __init__(self):\n",
        "    self.x=1\n",
        "    self._y=1 #private\n",
        "    self.__z=1  #在class屬性裡面會被python的interpreter給重新命名"
      ],
      "execution_count": null,
      "outputs": []
    }
  ]
}